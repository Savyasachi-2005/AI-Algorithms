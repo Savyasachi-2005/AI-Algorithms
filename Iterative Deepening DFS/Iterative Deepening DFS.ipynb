{
 "cells": [
  {
   "cell_type": "code",
   "execution_count": 3,
   "id": "7889c38a-6dcf-4282-88f1-e57a774067be",
   "metadata": {},
   "outputs": [
    {
     "name": "stdout",
     "output_type": "stream",
     "text": [
      "Visiting Node A\n",
      "Visiting Node B\n",
      "Visiting Node C\n",
      "Increasing depth to 2\n",
      "Visiting Node A\n",
      "Visiting Node B\n",
      "Visiting Node D\n",
      "Visiting Node C\n",
      "Visiting Node E\n",
      "Found the node!\n",
      "Search Result: {'value': 'E', 'children': [{'value': 'G', 'children': []}]}\n"
     ]
    }
   ],
   "source": [
    "def iterative_deepening_dfs(start, target):\n",
    "    depth = 1\n",
    "    bottom_reached = False\n",
    "    \n",
    "    while not bottom_reached:\n",
    "        result, bottom_reached = iterative_deepening_dfs_rec(start, target, 0, depth)\n",
    "        if result:\n",
    "            return result\n",
    "        depth *= 2\n",
    "        print(\"Increasing depth to\", depth)\n",
    "    \n",
    "    return None\n",
    "\n",
    "def iterative_deepening_dfs_rec(node, target, current_depth, max_depth):\n",
    "    print(\"Visiting Node\", node[\"value\"])\n",
    "    \n",
    "    if node[\"value\"] == target:\n",
    "        print(\"Found the node!\")\n",
    "        return node, True\n",
    "    \n",
    "    if current_depth == max_depth:\n",
    "        return None, len(node[\"children\"]) == 0\n",
    "    \n",
    "    bottom_reached = True\n",
    "    for child in node[\"children\"]:\n",
    "        result, bottom_reached_rec = iterative_deepening_dfs_rec(child, target, current_depth + 1, max_depth)\n",
    "        if result:\n",
    "            return result, True\n",
    "        bottom_reached &= bottom_reached_rec\n",
    "    \n",
    "    return None, bottom_reached\n",
    "\n",
    "if __name__ == \"__main__\":\n",
    "    tree = {\n",
    "        \"value\": \"A\",\n",
    "        \"children\": [\n",
    "            {\"value\": \"B\", \"children\": [\n",
    "                {\"value\": \"D\", \"children\": []}\n",
    "            ]},\n",
    "            {\"value\": \"C\", \"children\": [\n",
    "                {\"value\": \"E\", \"children\": [{\"value\": \"G\", \"children\": []}]},\n",
    "                {\"value\": \"F\", \"children\": []}\n",
    "            ]}\n",
    "        ]\n",
    "    }\n",
    "    \n",
    "    target_value = \"E\"\n",
    "    result = iterative_deepening_dfs(tree, target_value)\n",
    "    print(\"Search Result:\", result)\n"
   ]
  },
  {
   "cell_type": "code",
   "execution_count": null,
   "id": "f8790ea6-3966-4bfb-b195-7e7ff804f0ee",
   "metadata": {},
   "outputs": [],
   "source": []
  }
 ],
 "metadata": {
  "kernelspec": {
   "display_name": "Python 3 (ipykernel)",
   "language": "python",
   "name": "python3"
  },
  "language_info": {
   "codemirror_mode": {
    "name": "ipython",
    "version": 3
   },
   "file_extension": ".py",
   "mimetype": "text/x-python",
   "name": "python",
   "nbconvert_exporter": "python",
   "pygments_lexer": "ipython3",
   "version": "3.10.12"
  }
 },
 "nbformat": 4,
 "nbformat_minor": 5
}
