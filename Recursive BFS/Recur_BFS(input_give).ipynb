{
 "cells": [
  {
   "cell_type": "code",
   "execution_count": 4,
   "id": "08b2862d-0182-41f8-85b2-9609234f5875",
   "metadata": {},
   "outputs": [
    {
     "name": "stdin",
     "output_type": "stream",
     "text": [
      "Enter the start node:  A\n",
      "Enter the goal node:  G\n"
     ]
    },
    {
     "name": "stdout",
     "output_type": "stream",
     "text": [
      "\n",
      "Enter the graph structure (type 'done' when finished):\n"
     ]
    },
    {
     "name": "stdin",
     "output_type": "stream",
     "text": [
      "Enter node and its edges (format: node: [child1, child2], e.g., A: [B, C] or type 'done' to stop):  A:[B,C]\n",
      "Enter cost to B:  1\n",
      "Enter cost to C:  4\n",
      "Enter node and its edges (format: node: [child1, child2], e.g., A: [B, C] or type 'done' to stop):  B: [D, E]\n",
      "Enter cost to D:  3\n",
      "Enter cost to E:  2\n",
      "Enter node and its edges (format: node: [child1, child2], e.g., A: [B, C] or type 'done' to stop):  C: [G]\n",
      "Enter cost to G:  5\n",
      "Enter node and its edges (format: node: [child1, child2], e.g., A: [B, C] or type 'done' to stop):  D: []\n",
      "Enter cost to :  0\n",
      "Enter node and its edges (format: node: [child1, child2], e.g., A: [B, C] or type 'done' to stop):  E: [G]\n",
      "Enter cost to G:  5\n",
      "Enter node and its edges (format: node: [child1, child2], e.g., A: [B, C] or type 'done' to stop):  G: []\n",
      "Enter cost to :  0\n",
      "Enter node and its edges (format: node: [child1, child2], e.g., A: [B, C] or type 'done' to stop):  done\n"
     ]
    },
    {
     "name": "stdout",
     "output_type": "stream",
     "text": [
      "\n",
      "Enter heuristic values for each node (format: node: value, e.g., A: 7):\n"
     ]
    },
    {
     "name": "stdin",
     "output_type": "stream",
     "text": [
      "Enter heuristic for A:  7\n",
      "Enter heuristic for B:  6\n",
      "Enter heuristic for C:  5\n",
      "Enter heuristic for D:  4\n",
      "Enter heuristic for E:  2\n",
      "Enter heuristic for G:  0\n"
     ]
    },
    {
     "name": "stdout",
     "output_type": "stream",
     "text": [
      "\n",
      "Path to goal found!\n"
     ]
    }
   ],
   "source": [
    "import sys\n",
    "def RBFS(start,goal_test,suc,heur):\n",
    "\n",
    "    def rbfs_recur(node,g,f_limit,path):\n",
    "        f=g+heur(node)\n",
    "        if f>f_limit:\n",
    "            return f \n",
    "        if goal_test(node):\n",
    "            return 'FOUND'\n",
    "        suc_list=[]\n",
    "        for ch,cost in suc(node):\n",
    "            if ch not in path:\n",
    "                suc_list.append((ch,g+cost,heur(ch)))\n",
    "\n",
    "        if not suc_list:\n",
    "            return float('inf')\n",
    "        suc_list.sort(key=lambda x:x[1]+x[2])\n",
    "        best_suc,best_g,best_h=suc_list[0]\n",
    "        second_best_f=suc_list[1][1]+suc_list[1][2] if len(suc_list)>1 else float('inf')\n",
    "        f=rbfs_recur(best_suc,best_g,min(f_limit,second_best_f),path+[best_suc])\n",
    "\n",
    "        if f=='FOUND':\n",
    "            return 'FOUND'\n",
    "        return f\n",
    "    result=rbfs_recur(start,0,float('inf'),[start])\n",
    "    return result\n",
    "\n",
    "def get_input():\n",
    "    # 1. Get the start node\n",
    "    start_node = input(\"Enter the start node: \")\n",
    "\n",
    "    # 2. Get the goal node\n",
    "    goal_node = input(\"Enter the goal node: \")\n",
    "\n",
    "    # 3. Get the graph structure (nodes and edges with costs)\n",
    "    print(\"\\nEnter the graph structure (type 'done' when finished):\")\n",
    "    graph = {}\n",
    "    while True:\n",
    "        edge = input(\"Enter node and its edges (format: node: [child1, child2], e.g., A: [B, C] or type 'done' to stop): \")\n",
    "        if edge.lower() == 'done':\n",
    "            break\n",
    "        node, children = edge.split(\":\")\n",
    "        children = children.strip()[1:-1].split(\",\")\n",
    "        graph[node.strip()] = [(child.strip(), int(input(f\"Enter cost to {child.strip()}: \"))) for child in children]\n",
    "\n",
    "    # 4. Get the heuristic values\n",
    "    print(\"\\nEnter heuristic values for each node (format: node: value, e.g., A: 7):\")\n",
    "    heuristics = {}\n",
    "    for node in graph:\n",
    "        heuristic_value = int(input(f\"Enter heuristic for {node}: \"))\n",
    "        heuristics[node] = heuristic_value\n",
    "\n",
    "    # 5. Define goal test function\n",
    "    def goal_test(node):\n",
    "        return node == goal_node\n",
    "\n",
    "    # 6. Define the successor function\n",
    "    def successors(node):\n",
    "        return graph.get(node, [])\n",
    "\n",
    "    # 7. Define the heuristic function\n",
    "    def heuristic(node):\n",
    "        return heuristics.get(node, float('inf'))\n",
    "\n",
    "    return start_node, goal_test, successors, heuristic\n",
    "\n",
    "# Main function to run RBFS with manual input\n",
    "start_node, goal_test, successors, heuristic = get_input()\n",
    "result = RBFS(start_node, goal_test, successors, heuristic)\n",
    "\n",
    "if result == 'FOUND':\n",
    "    print(\"\\nPath to goal found!\")\n",
    "else:\n",
    "    print(\"\\nNo solution found.\")\n"
   ]
  },
  {
   "cell_type": "code",
   "execution_count": null,
   "id": "2d6ee6fb-5d19-48fa-bf51-8c18d17a4348",
   "metadata": {},
   "outputs": [],
   "source": []
  }
 ],
 "metadata": {
  "kernelspec": {
   "display_name": "Python 3 (ipykernel)",
   "language": "python",
   "name": "python3"
  },
  "language_info": {
   "codemirror_mode": {
    "name": "ipython",
    "version": 3
   },
   "file_extension": ".py",
   "mimetype": "text/x-python",
   "name": "python",
   "nbconvert_exporter": "python",
   "pygments_lexer": "ipython3",
   "version": "3.10.12"
  }
 },
 "nbformat": 4,
 "nbformat_minor": 5
}
