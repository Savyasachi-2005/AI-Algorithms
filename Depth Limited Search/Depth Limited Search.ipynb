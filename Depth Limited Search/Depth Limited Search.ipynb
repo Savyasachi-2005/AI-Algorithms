{
 "cells": [
  {
   "cell_type": "code",
   "execution_count": 9,
   "id": "7c641ee8-a41e-483f-8396-961d7e1f7115",
   "metadata": {},
   "outputs": [
    {
     "name": "stdout",
     "output_type": "stream",
     "text": [
      "Visited Nodes: {E, A, D, B, F}\n",
      "Goal node found\n",
      "Search Result: True\n"
     ]
    }
   ],
   "source": [
    "class Node:\n",
    "    def __init__(self, value):\n",
    "        self.value = value\n",
    "        self.children = []\n",
    "\n",
    "    def add_child(self, child):\n",
    "        self.children.append(child)\n",
    "\n",
    "    def __eq__(self, other):\n",
    "        return isinstance(other, Node) and self.value == other.value\n",
    "\n",
    "    def __hash__(self):\n",
    "        return hash(self.value)  # Ensures the node is hashable\n",
    "\n",
    "    def __repr__(self):\n",
    "        return str(self.value)\n",
    "\n",
    "\n",
    "\n",
    "class DLS:\n",
    "    def __init__(self, source, goal, limit=2):\n",
    "        self.source = source\n",
    "        self.goal = goal\n",
    "        self.limit = limit\n",
    "\n",
    "    def execute(self):\n",
    "        stack, visited = [(self.source, 0)], set()\n",
    "        \n",
    "        while stack:\n",
    "            node, depth = stack.pop()\n",
    "            \n",
    "            if depth > self.limit or node in visited:\n",
    "                continue\n",
    "            \n",
    "            visited.add(node)\n",
    "            if node == self.goal:\n",
    "                print(\"Visited Nodes:\", visited)\n",
    "                print(\"Goal node found\")\n",
    "                return True\n",
    "            \n",
    "            stack.extend((child, depth + 1) for child in reversed(node.children))\n",
    "        \n",
    "        print(\"Goal Node not found within depth limit\")\n",
    "        return False\n",
    "\n",
    "\n",
    "if __name__ == \"__main__\":\n",
    "    # Creating graph\n",
    "    nodeA, nodeB, nodeC, nodeD, nodeE,nodeF= Node(\"A\"), Node(\"B\"), Node(\"C\"), Node(\"D\"), Node(\"E\"),Node(\"F\")\n",
    "    nodeA.add_child(nodeB)\n",
    "    nodeA.add_child(nodeC)\n",
    "    nodeB.add_child(nodeD)\n",
    "    #nodeC.add_child(nodeE)\n",
    "    nodeD.add_child(nodeF)\n",
    "    nodeF.add_child(nodeE)\n",
    "    \n",
    "    # Running Depth Limited Search\n",
    "    print(\"Search Result:\", DLS(nodeA, nodeE, limit=4).execute())\n"
   ]
  },
  {
   "cell_type": "code",
   "execution_count": null,
   "id": "cbe58e71-b7ac-4d17-a202-86582011255a",
   "metadata": {},
   "outputs": [],
   "source": []
  }
 ],
 "metadata": {
  "kernelspec": {
   "display_name": "Python 3 (ipykernel)",
   "language": "python",
   "name": "python3"
  },
  "language_info": {
   "codemirror_mode": {
    "name": "ipython",
    "version": 3
   },
   "file_extension": ".py",
   "mimetype": "text/x-python",
   "name": "python",
   "nbconvert_exporter": "python",
   "pygments_lexer": "ipython3",
   "version": "3.10.12"
  }
 },
 "nbformat": 4,
 "nbformat_minor": 5
}
