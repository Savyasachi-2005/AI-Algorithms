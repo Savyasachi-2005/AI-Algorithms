{
 "cells": [
  {
   "cell_type": "code",
   "execution_count": 27,
   "id": "65615431-77e2-42c6-81c4-babe77b16a07",
   "metadata": {},
   "outputs": [
    {
     "name": "stdout",
     "output_type": "stream",
     "text": [
      "The Total min Cost is : 22\n"
     ]
    }
   ],
   "source": [
    "import heapq\n",
    "from collections import defaultdict\n",
    "\n",
    "def find_short_path(edges,n,src,dest):\n",
    "    INF=float('inf')\n",
    "    queue=[(0,src)]\n",
    "    visited=[False]*n\n",
    "    grp=defaultdict(set)\n",
    "    for u,v,cost in edges:\n",
    "        grp[u].add((v,cost))\n",
    "    min_cost =INF\n",
    "    while queue:\n",
    "        cst,cur_vertex=heapq.heappop(queue)\n",
    "        if cur_vertex == dest:\n",
    "            min_cost=min(min_cost,cst)\n",
    "            continue\n",
    "        if visited[cur_vertex]:\n",
    "            continue\n",
    "        visited[cur_vertex]=True\n",
    "\n",
    "        for nigh,cost in grp[cur_vertex]:\n",
    "            if not visited[nigh]:\n",
    "                heapq.heappush(queue,(cst+cost,nigh))\n",
    "    return min_cost\n",
    "\n",
    "graph=[\n",
    "    (0, 3, 10),\n",
    "    (0, 1, 5),\n",
    "    (1, 5, 15),\n",
    "    (1, 2, 4),\n",
    "    (2, 4, 8),\n",
    "    (3, 5, 11),\n",
    "    (5, 4, 4),\n",
    "    (5,6,2)\n",
    "]\n",
    "src=0\n",
    "dest=6\n",
    "n=7\n",
    "min_cost=find_short_path(graph,n,src,dest)\n",
    "print(f\"The Total min Cost is : {min_cost}\")"
   ]
  },
  {
   "cell_type": "code",
   "execution_count": null,
   "id": "60951a63-5823-4d2f-8460-52036e033a21",
   "metadata": {},
   "outputs": [],
   "source": []
  },
  {
   "cell_type": "code",
   "execution_count": null,
   "id": "9739b3d4-93a9-49d6-92aa-805f3f725a43",
   "metadata": {},
   "outputs": [],
   "source": []
  }
 ],
 "metadata": {
  "kernelspec": {
   "display_name": "Python 3 (ipykernel)",
   "language": "python",
   "name": "python3"
  },
  "language_info": {
   "codemirror_mode": {
    "name": "ipython",
    "version": 3
   },
   "file_extension": ".py",
   "mimetype": "text/x-python",
   "name": "python",
   "nbconvert_exporter": "python",
   "pygments_lexer": "ipython3",
   "version": "3.10.12"
  }
 },
 "nbformat": 4,
 "nbformat_minor": 5
}
