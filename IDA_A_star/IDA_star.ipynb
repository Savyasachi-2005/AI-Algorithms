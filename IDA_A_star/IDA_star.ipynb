{
 "cells": [
  {
   "cell_type": "code",
   "execution_count": 6,
   "id": "eacd17b8-0ee3-4638-85ce-35de226c5439",
   "metadata": {},
   "outputs": [
    {
     "name": "stdout",
     "output_type": "stream",
     "text": [
      "Path to goal: ['A', 'B', 'E', 'G']\n"
     ]
    }
   ],
   "source": [
    "def IDA_star(start,goal_test,successors,heuristic):\n",
    "    def dfs(path,g,threshold):\n",
    "        node=path[-1]\n",
    "        f=g+heuristic(node)\n",
    "        if f>threshold:\n",
    "            return f\n",
    "        if goal_test(node):\n",
    "            return 'FOUND'\n",
    "        min_threshold=float('inf')\n",
    "        for ch,cost in successors(node):\n",
    "            if ch not in path:\n",
    "                path.append(ch)\n",
    "                t=dfs(path,g+cost,threshold)\n",
    "\n",
    "                if t == 'FOUND':\n",
    "                    return 'FOUND'\n",
    "                if t<min_threshold:\n",
    "                    min_threshold=t\n",
    "                path.pop()\n",
    "        return min_threshold\n",
    "    threshold=heuristic(start)\n",
    "    path=[start]\n",
    "    while True:\n",
    "        result=dfs(path,0,threshold)\n",
    "        if result == 'FOUND':\n",
    "            return path\n",
    "        if result == float('inf'):\n",
    "            return None\n",
    "        threshold=result\n",
    "\n",
    "start_node = 'A'\n",
    "\n",
    "# 2. Define the **goal test function** (checks if goal node is reached):\n",
    "def goal_test(node):\n",
    "    return node == 'G'\n",
    "\n",
    "# 3. Define the **successor function** (for example, a simple graph with costs):\n",
    "def successors(node):\n",
    "    # This graph is just a dictionary for illustration purposes.\n",
    "    graph = {\n",
    "        'A': [('B', 1), ('C', 4)],\n",
    "        'B': [('D', 3), ('E', 2)],\n",
    "        'C': [('G', 5)],\n",
    "        'D': [],\n",
    "        'E': [('G', 5)],\n",
    "        'G': []\n",
    "    }\n",
    "    return graph.get(node, [])\n",
    "\n",
    "# 4. Define the **heuristic function** (for example, straight-line distance to goal):\n",
    "def heuristic(node):\n",
    "    heuristics = {\n",
    "        'A': 7,\n",
    "        'B': 6,\n",
    "        'C': 5,\n",
    "        'D': 4,\n",
    "        'E': 2,\n",
    "        'G': 0\n",
    "    }\n",
    "    return heuristics.get(node, float('inf'))\n",
    "\n",
    "# 5. Run the IDA* algorithm:\n",
    "result_path = IDA_star(start_node, goal_test, successors, heuristic)\n",
    "print(\"Path to goal:\", result_path)\n"
   ]
  },
  {
   "cell_type": "code",
   "execution_count": null,
   "id": "d31d9746-0a4d-4229-9105-7dd7257cae01",
   "metadata": {},
   "outputs": [],
   "source": []
  }
 ],
 "metadata": {
  "kernelspec": {
   "display_name": "Python 3 (ipykernel)",
   "language": "python",
   "name": "python3"
  },
  "language_info": {
   "codemirror_mode": {
    "name": "ipython",
    "version": 3
   },
   "file_extension": ".py",
   "mimetype": "text/x-python",
   "name": "python",
   "nbconvert_exporter": "python",
   "pygments_lexer": "ipython3",
   "version": "3.10.12"
  }
 },
 "nbformat": 4,
 "nbformat_minor": 5
}
