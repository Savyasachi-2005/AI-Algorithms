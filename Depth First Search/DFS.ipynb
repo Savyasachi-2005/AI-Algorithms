{
 "cells": [
  {
   "cell_type": "code",
   "execution_count": 2,
   "id": "de8c40b1-0075-4c07-b060-0d1566fb809e",
   "metadata": {},
   "outputs": [
    {
     "name": "stdout",
     "output_type": "stream",
     "text": [
      "\n",
      "Iterative DFS:\n",
      "A B D E F C "
     ]
    }
   ],
   "source": [
    "def dfs_iterative(start, graph):\n",
    "    visited = set()\n",
    "    stack = [start]\n",
    "\n",
    "    print(\"\\nIterative DFS:\")\n",
    "    while stack:\n",
    "        node = stack.pop()\n",
    "        if node not in visited:\n",
    "            print(node, end=\" \")  # Process node (printing)\n",
    "            visited.add(node)\n",
    "            stack.extend(reversed(graph[node]))  # Push neighbors onto stack\n",
    "\n",
    "# Run Iterative DFS\n",
    "graph = {\n",
    "    'A': ['B', 'C'],\n",
    "    'B': ['D', 'E'],\n",
    "    'C': ['F'],\n",
    "    'D': [],\n",
    "    'E': ['F'],\n",
    "    'F': []\n",
    "}\n",
    "\n",
    "dfs_iterative('A', graph)\n"
   ]
  },
  {
   "cell_type": "code",
   "execution_count": null,
   "id": "0495e94c-fe9e-4358-bca8-9f41dd1ccc99",
   "metadata": {},
   "outputs": [],
   "source": []
  }
 ],
 "metadata": {
  "kernelspec": {
   "display_name": "Python 3 (ipykernel)",
   "language": "python",
   "name": "python3"
  },
  "language_info": {
   "codemirror_mode": {
    "name": "ipython",
    "version": 3
   },
   "file_extension": ".py",
   "mimetype": "text/x-python",
   "name": "python",
   "nbconvert_exporter": "python",
   "pygments_lexer": "ipython3",
   "version": "3.10.12"
  }
 },
 "nbformat": 4,
 "nbformat_minor": 5
}
